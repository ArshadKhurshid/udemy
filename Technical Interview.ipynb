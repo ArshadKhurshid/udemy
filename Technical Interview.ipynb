{
 "cells": [
  {
   "cell_type": "code",
   "execution_count": 33,
   "metadata": {
    "collapsed": true
   },
   "outputs": [],
   "source": [
    "def question1(s, t):\n",
    "    string = s\n",
    "    print (\"Searching for Anagram in string:\",string)\n",
    "    string = string.casefold()\n",
    "    \n",
    "    sub_string = t\n",
    "    print(\"String received in parameter:\", sub_string)\n",
    "    sub_string = sub_string.casefold()\n",
    "    \n",
    "    rev_substring = ''.join(reversed(sub_string))\n",
    "    print(\"String for which anagram need to be searched:\", rev_substring)\n",
    "    \n",
    "    is_present = string.find(rev_substring)\n",
    "    \n",
    "    if (is_present > -1):\n",
    "        return True\n",
    "    return False\n",
    "    "
   ]
  },
  {
   "cell_type": "code",
   "execution_count": 35,
   "metadata": {},
   "outputs": [
    {
     "name": "stdout",
     "output_type": "stream",
     "text": [
      "Searching for Anagram in string: arshad\n",
      "String received in parameter: xy\n",
      "String for which anagram need to be searched: yx\n",
      "Anagram present? False\n"
     ]
    }
   ],
   "source": [
    "print(\"Anagram present?\",question1(\"Arshad\", \"da\"))"
   ]
  },
  {
   "cell_type": "code",
   "execution_count": 36,
   "metadata": {},
   "outputs": [
    {
     "name": "stdout",
     "output_type": "stream",
     "text": [
      "Searching for Anagram in string: arshad\n",
      "String received in parameter: ah\n",
      "String for which anagram need to be searched: ha\n",
      "Anagram present? True\n"
     ]
    }
   ],
   "source": [
    "print(\"Anagram present?\",question1(\"Arshad\", \"AH\"))"
   ]
  },
  {
   "cell_type": "code",
   "execution_count": 37,
   "metadata": {},
   "outputs": [
    {
     "name": "stdout",
     "output_type": "stream",
     "text": [
      "Searching for Anagram in string: arshad\n",
      "String received in parameter: ra\n",
      "String for which anagram need to be searched: ar\n",
      "Anagram present? True\n"
     ]
    }
   ],
   "source": [
    "print(\"Anagram present?\",question1(\"Arshad\", \"ra\"))"
   ]
  },
  {
   "cell_type": "code",
   "execution_count": 78,
   "metadata": {},
   "outputs": [],
   "source": [
    "def question2(a):\n",
    "    \n",
    "    string = a\n",
    "    string = string.casefold()\n",
    "    str_len = len(string)\n",
    "    \n",
    "    for i in range(0,str_len-2):\n",
    "        start = i\n",
    "        end = 3+i\n",
    "        f_string = string[start:end]\n",
    "        r_string = f_string[::-1]\n",
    "        if (f_string == r_string):\n",
    "            cntr = end-2\n",
    "            print(f_string, r_string, f_string[cntr])\n",
    "    return"
   ]
  },
  {
   "cell_type": "code",
   "execution_count": 79,
   "metadata": {},
   "outputs": [
    {
     "name": "stdout",
     "output_type": "stream",
     "text": [
      "ana ana n\n"
     ]
    }
   ],
   "source": [
    "question2(\"Anagram\")"
   ]
  }
 ],
 "metadata": {
  "kernelspec": {
   "display_name": "Python 3",
   "language": "python",
   "name": "python3"
  },
  "language_info": {
   "codemirror_mode": {
    "name": "ipython",
    "version": 3
   },
   "file_extension": ".py",
   "mimetype": "text/x-python",
   "name": "python",
   "nbconvert_exporter": "python",
   "pygments_lexer": "ipython3",
   "version": "3.6.3"
  }
 },
 "nbformat": 4,
 "nbformat_minor": 2
}
